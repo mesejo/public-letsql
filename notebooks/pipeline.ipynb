{
  "nbformat": 4,
  "nbformat_minor": 0,
  "metadata": {
    "colab": {
      "provenance": [],
      "authorship_tag": "ABX9TyNNKkNNj9fW2ACTdnFa7xce",
      "include_colab_link": true
    },
    "kernelspec": {
      "name": "python3",
      "display_name": "Python 3"
    },
    "language_info": {
      "name": "python"
    }
  },
  "cells": [
    {
      "cell_type": "markdown",
      "metadata": {
        "id": "view-in-github",
        "colab_type": "text"
      },
      "source": [
        "<a href=\"https://colab.research.google.com/github/mesejo/public-letsql/blob/feat%2Fadd-colab-notebook/notebooks/pipeline.ipynb\" target=\"_parent\"><img src=\"https://colab.research.google.com/assets/colab-badge.svg\" alt=\"Open In Colab\"/></a>"
      ]
    },
    {
      "cell_type": "code",
      "source": [],
      "metadata": {
        "id": "uoVmxYeA_MJY"
      },
      "execution_count": null,
      "outputs": []
    },
    {
      "cell_type": "markdown",
      "source": [
        "In this tutorial, we'll build an end-to-end machine learning pipeline using xorq expressions to predict the number of comments a Hacker News story will receive based on its title. The pipeline fetches live data, processes text, trains a model, and makes predictions - all expressed as a single composable expression.\n",
        "\n",
        "## Why Use Expression-Based ML Pipelines?\n",
        "\n",
        "Traditional ML pipelines typically involve multiple disjointed steps that require manual orchestration, leading to complex codebases and difficult-to-maintain systems. An expression-based approach using xorq offers significant advantages:\n",
        "\n",
        "- **Multi-engine optimization:** Execute different parts of your pipeline on the most appropriate backends (PostgreSQL, DuckDB, DataFusion)\n",
        "- **Smart caching:** Automatically cache intermediate results to avoid redundant computations\n",
        "- **Lazy evaluation:** Define the entire pipeline before execution, enabling optimization across the full workflow\n",
        "\n",
        "Unlike traditional ETL or ML pipeline frameworks that focus on tasks and scheduling, xorq treats data transformations as first-class expressions, making your pipelines more readable, maintainable, and efficient.\n",
        "\n",
        "First lets install `xorq` with the examples extra"
      ],
      "metadata": {
        "id": "CgDIn5XtHR_Z"
      }
    },
    {
      "cell_type": "code",
      "execution_count": 1,
      "metadata": {
        "colab": {
          "base_uri": "https://localhost:8080/"
        },
        "id": "3qHOx0KvnYGE",
        "outputId": "6b94692b-c408-4c20-c6ed-826bd01f8254"
      },
      "outputs": [
        {
          "output_type": "stream",
          "name": "stdout",
          "text": [
            "Collecting xorq[examples]\n",
            "  Downloading xorq-0.1.16-cp38-abi3-manylinux_2_17_x86_64.manylinux2014_x86_64.whl.metadata (9.2 kB)\n",
            "Collecting dask==2025.1.0 (from xorq[examples])\n",
            "  Downloading dask-2025.1.0-py3-none-any.whl.metadata (3.8 kB)\n",
            "Requirement already satisfied: attrs<26,>=24.0.0 in /usr/local/lib/python3.11/dist-packages (from xorq[examples]) (25.1.0)\n",
            "Requirement already satisfied: pyarrow<20,>=13.0.0 in /usr/local/lib/python3.11/dist-packages (from xorq[examples]) (18.1.0)\n",
            "Collecting structlog<26,>=24.2.0 (from xorq[examples])\n",
            "  Downloading structlog-25.2.0-py3-none-any.whl.metadata (8.6 kB)\n",
            "Collecting pytest-mock<4,>=3.14.0 (from xorq[examples])\n",
            "  Downloading pytest_mock-3.14.0-py3-none-any.whl.metadata (3.8 kB)\n",
            "Collecting cityhash<1,>=0.4.7 (from xorq[examples])\n",
            "  Downloading cityhash-0.4.7-cp311-cp311-manylinux_2_17_x86_64.manylinux2014_x86_64.whl.metadata (6.5 kB)\n",
            "Requirement already satisfied: pandas<3,>=1.5.3 in /usr/local/lib/python3.11/dist-packages (from xorq[examples]) (2.2.2)\n",
            "Collecting pyarrow-hotfix<1,>=0.4 (from xorq[examples])\n",
            "  Downloading pyarrow_hotfix-0.6-py3-none-any.whl.metadata (3.6 kB)\n",
            "Collecting geoarrow-types<1,>=0.2 (from xorq[examples])\n",
            "  Downloading geoarrow_types-0.2.0-py3-none-any.whl.metadata (370 bytes)\n",
            "Collecting atpublic>=5.1 (from xorq[examples])\n",
            "  Downloading atpublic-5.1-py3-none-any.whl.metadata (1.8 kB)\n",
            "Requirement already satisfied: parsy>=2 in /usr/local/lib/python3.11/dist-packages (from xorq[examples]) (2.1)\n",
            "Requirement already satisfied: python-dateutil>=2.8.2 in /usr/local/lib/python3.11/dist-packages (from xorq[examples]) (2.8.2)\n",
            "Requirement already satisfied: pytz>=2022.7 in /usr/local/lib/python3.11/dist-packages (from xorq[examples]) (2025.1)\n",
            "Collecting sqlglot==25.20.2 (from xorq[examples])\n",
            "  Downloading sqlglot-25.20.2-py3-none-any.whl.metadata (19 kB)\n",
            "Requirement already satisfied: toolz>=0.11 in /usr/local/lib/python3.11/dist-packages (from xorq[examples]) (0.12.1)\n",
            "Requirement already satisfied: typing-extensions>=4.3.0 in /usr/local/lib/python3.11/dist-packages (from xorq[examples]) (4.12.2)\n",
            "Requirement already satisfied: pyyaml>=6.0.2 in /usr/local/lib/python3.11/dist-packages (from xorq[examples]) (6.0.2)\n",
            "Requirement already satisfied: cloudpickle>=3.1.1 in /usr/local/lib/python3.11/dist-packages (from xorq[examples]) (3.1.1)\n",
            "Collecting envyaml>=1.10.211231 (from xorq[examples])\n",
            "  Downloading envyaml-1.10.211231-py2.py3-none-any.whl.metadata (5.8 kB)\n",
            "Requirement already satisfied: fsspec<2025.3.1,>=2024.6.1 in /usr/local/lib/python3.11/dist-packages (from xorq[examples]) (2024.10.0)\n",
            "Collecting pins<1,>=0.8.3 (from pins[gcs]<1,>=0.8.3; python_full_version >= \"3.10\" and python_full_version < \"4.0\" and extra == \"examples\"->xorq[examples])\n",
            "  Downloading pins-0.8.7-py2.py3-none-any.whl.metadata (6.9 kB)\n",
            "Requirement already satisfied: xgboost>=1.6.1 in /usr/local/lib/python3.11/dist-packages (from xorq[examples]) (2.1.4)\n",
            "Requirement already satisfied: duckdb<2,>=0.10.3 in /usr/local/lib/python3.11/dist-packages (from xorq[examples]) (1.1.3)\n",
            "Collecting quickgrove>=0.1.2 (from xorq[examples])\n",
            "  Downloading quickgrove-0.1.4-cp311-cp311-manylinux_2_17_x86_64.manylinux2014_x86_64.whl.metadata (5.7 kB)\n",
            "Requirement already satisfied: scikit-learn<2.0.0,>=1.4.0 in /usr/local/lib/python3.11/dist-packages (from xorq[examples]) (1.6.1)\n",
            "Collecting openai>=1.65.4 (from xorq[examples])\n",
            "  Downloading openai-1.66.3-py3-none-any.whl.metadata (25 kB)\n",
            "Requirement already satisfied: tenacity>=9.0.0 in /usr/local/lib/python3.11/dist-packages (from xorq[examples]) (9.0.0)\n",
            "Collecting adbc-driver-postgresql>=1.4.0 (from xorq[examples])\n",
            "  Downloading adbc_driver_postgresql-1.5.0-py3-none-manylinux_2_17_x86_64.manylinux2014_x86_64.whl.metadata (4.0 kB)\n",
            "Collecting psycopg2-binary>=2.9.10 (from xorq[examples])\n",
            "  Downloading psycopg2_binary-2.9.10-cp311-cp311-manylinux_2_17_x86_64.manylinux2014_x86_64.whl.metadata (4.9 kB)\n",
            "Requirement already satisfied: click>=8.1 in /usr/local/lib/python3.11/dist-packages (from dask==2025.1.0->xorq[examples]) (8.1.8)\n",
            "Requirement already satisfied: packaging>=20.0 in /usr/local/lib/python3.11/dist-packages (from dask==2025.1.0->xorq[examples]) (24.2)\n",
            "Requirement already satisfied: partd>=1.4.0 in /usr/local/lib/python3.11/dist-packages (from dask==2025.1.0->xorq[examples]) (1.4.2)\n",
            "Requirement already satisfied: importlib_metadata>=4.13.0 in /usr/local/lib/python3.11/dist-packages (from dask==2025.1.0->xorq[examples]) (8.6.1)\n",
            "Collecting adbc-driver-manager (from adbc-driver-postgresql>=1.4.0->xorq[examples])\n",
            "  Downloading adbc_driver_manager-1.5.0-cp311-cp311-manylinux_2_17_x86_64.manylinux2014_x86_64.whl.metadata (3.2 kB)\n",
            "Requirement already satisfied: importlib-resources>=1.3 in /usr/local/lib/python3.11/dist-packages (from adbc-driver-postgresql>=1.4.0->xorq[examples]) (6.5.2)\n",
            "Requirement already satisfied: anyio<5,>=3.5.0 in /usr/local/lib/python3.11/dist-packages (from openai>=1.65.4->xorq[examples]) (3.7.1)\n",
            "Requirement already satisfied: distro<2,>=1.7.0 in /usr/local/lib/python3.11/dist-packages (from openai>=1.65.4->xorq[examples]) (1.9.0)\n",
            "Requirement already satisfied: httpx<1,>=0.23.0 in /usr/local/lib/python3.11/dist-packages (from openai>=1.65.4->xorq[examples]) (0.28.1)\n",
            "Requirement already satisfied: jiter<1,>=0.4.0 in /usr/local/lib/python3.11/dist-packages (from openai>=1.65.4->xorq[examples]) (0.9.0)\n",
            "Requirement already satisfied: pydantic<3,>=1.9.0 in /usr/local/lib/python3.11/dist-packages (from openai>=1.65.4->xorq[examples]) (2.10.6)\n",
            "Requirement already satisfied: sniffio in /usr/local/lib/python3.11/dist-packages (from openai>=1.65.4->xorq[examples]) (1.3.1)\n",
            "Requirement already satisfied: tqdm>4 in /usr/local/lib/python3.11/dist-packages (from openai>=1.65.4->xorq[examples]) (4.67.1)\n",
            "Requirement already satisfied: numpy>=1.23.2 in /usr/local/lib/python3.11/dist-packages (from pandas<3,>=1.5.3->xorq[examples]) (1.26.4)\n",
            "Requirement already satisfied: tzdata>=2022.7 in /usr/local/lib/python3.11/dist-packages (from pandas<3,>=1.5.3->xorq[examples]) (2025.1)\n",
            "Collecting appdirs<2 (from pins<1,>=0.8.3->pins[gcs]<1,>=0.8.3; python_full_version >= \"3.10\" and python_full_version < \"4.0\" and extra == \"examples\"->xorq[examples])\n",
            "  Downloading appdirs-1.4.4-py2.py3-none-any.whl.metadata (9.0 kB)\n",
            "Requirement already satisfied: humanize>=1 in /usr/local/lib/python3.11/dist-packages (from pins<1,>=0.8.3->pins[gcs]<1,>=0.8.3; python_full_version >= \"3.10\" and python_full_version < \"4.0\" and extra == \"examples\"->xorq[examples]) (4.11.0)\n",
            "Requirement already satisfied: jinja2>=2.10 in /usr/local/lib/python3.11/dist-packages (from pins<1,>=0.8.3->pins[gcs]<1,>=0.8.3; python_full_version >= \"3.10\" and python_full_version < \"4.0\" and extra == \"examples\"->xorq[examples]) (3.1.6)\n",
            "Requirement already satisfied: joblib>=0.12 in /usr/local/lib/python3.11/dist-packages (from pins<1,>=0.8.3->pins[gcs]<1,>=0.8.3; python_full_version >= \"3.10\" and python_full_version < \"4.0\" and extra == \"examples\"->xorq[examples]) (1.4.2)\n",
            "Requirement already satisfied: requests in /usr/local/lib/python3.11/dist-packages (from pins<1,>=0.8.3->pins[gcs]<1,>=0.8.3; python_full_version >= \"3.10\" and python_full_version < \"4.0\" and extra == \"examples\"->xorq[examples]) (2.32.3)\n",
            "Collecting xxhash>=1 (from pins<1,>=0.8.3->pins[gcs]<1,>=0.8.3; python_full_version >= \"3.10\" and python_full_version < \"4.0\" and extra == \"examples\"->xorq[examples])\n",
            "  Downloading xxhash-3.5.0-cp311-cp311-manylinux_2_17_x86_64.manylinux2014_x86_64.whl.metadata (12 kB)\n",
            "Requirement already satisfied: gcsfs in /usr/local/lib/python3.11/dist-packages (from pins[gcs]<1,>=0.8.3; python_full_version >= \"3.10\" and python_full_version < \"4.0\" and extra == \"examples\"->xorq[examples]) (2024.10.0)\n",
            "Requirement already satisfied: pytest>=6.2.5 in /usr/local/lib/python3.11/dist-packages (from pytest-mock<4,>=3.14.0->xorq[examples]) (8.3.5)\n",
            "Requirement already satisfied: six>=1.5 in /usr/local/lib/python3.11/dist-packages (from python-dateutil>=2.8.2->xorq[examples]) (1.17.0)\n",
            "Requirement already satisfied: scipy>=1.6.0 in /usr/local/lib/python3.11/dist-packages (from scikit-learn<2.0.0,>=1.4.0->xorq[examples]) (1.14.1)\n",
            "Requirement already satisfied: threadpoolctl>=3.1.0 in /usr/local/lib/python3.11/dist-packages (from scikit-learn<2.0.0,>=1.4.0->xorq[examples]) (3.5.0)\n",
            "Requirement already satisfied: nvidia-nccl-cu12 in /usr/local/lib/python3.11/dist-packages (from xgboost>=1.6.1->xorq[examples]) (2.21.5)\n",
            "Requirement already satisfied: idna>=2.8 in /usr/local/lib/python3.11/dist-packages (from anyio<5,>=3.5.0->openai>=1.65.4->xorq[examples]) (3.10)\n",
            "Requirement already satisfied: certifi in /usr/local/lib/python3.11/dist-packages (from httpx<1,>=0.23.0->openai>=1.65.4->xorq[examples]) (2025.1.31)\n",
            "Requirement already satisfied: httpcore==1.* in /usr/local/lib/python3.11/dist-packages (from httpx<1,>=0.23.0->openai>=1.65.4->xorq[examples]) (1.0.7)\n",
            "Requirement already satisfied: h11<0.15,>=0.13 in /usr/local/lib/python3.11/dist-packages (from httpcore==1.*->httpx<1,>=0.23.0->openai>=1.65.4->xorq[examples]) (0.14.0)\n",
            "Requirement already satisfied: zipp>=3.20 in /usr/local/lib/python3.11/dist-packages (from importlib_metadata>=4.13.0->dask==2025.1.0->xorq[examples]) (3.21.0)\n",
            "Requirement already satisfied: MarkupSafe>=2.0 in /usr/local/lib/python3.11/dist-packages (from jinja2>=2.10->pins<1,>=0.8.3->pins[gcs]<1,>=0.8.3; python_full_version >= \"3.10\" and python_full_version < \"4.0\" and extra == \"examples\"->xorq[examples]) (3.0.2)\n",
            "Requirement already satisfied: locket in /usr/local/lib/python3.11/dist-packages (from partd>=1.4.0->dask==2025.1.0->xorq[examples]) (1.0.0)\n",
            "Requirement already satisfied: annotated-types>=0.6.0 in /usr/local/lib/python3.11/dist-packages (from pydantic<3,>=1.9.0->openai>=1.65.4->xorq[examples]) (0.7.0)\n",
            "Requirement already satisfied: pydantic-core==2.27.2 in /usr/local/lib/python3.11/dist-packages (from pydantic<3,>=1.9.0->openai>=1.65.4->xorq[examples]) (2.27.2)\n",
            "Requirement already satisfied: iniconfig in /usr/local/lib/python3.11/dist-packages (from pytest>=6.2.5->pytest-mock<4,>=3.14.0->xorq[examples]) (2.0.0)\n",
            "Requirement already satisfied: pluggy<2,>=1.5 in /usr/local/lib/python3.11/dist-packages (from pytest>=6.2.5->pytest-mock<4,>=3.14.0->xorq[examples]) (1.5.0)\n",
            "Requirement already satisfied: aiohttp!=4.0.0a0,!=4.0.0a1 in /usr/local/lib/python3.11/dist-packages (from gcsfs->pins[gcs]<1,>=0.8.3; python_full_version >= \"3.10\" and python_full_version < \"4.0\" and extra == \"examples\"->xorq[examples]) (3.11.13)\n",
            "Requirement already satisfied: decorator>4.1.2 in /usr/local/lib/python3.11/dist-packages (from gcsfs->pins[gcs]<1,>=0.8.3; python_full_version >= \"3.10\" and python_full_version < \"4.0\" and extra == \"examples\"->xorq[examples]) (4.4.2)\n",
            "Requirement already satisfied: google-auth>=1.2 in /usr/local/lib/python3.11/dist-packages (from gcsfs->pins[gcs]<1,>=0.8.3; python_full_version >= \"3.10\" and python_full_version < \"4.0\" and extra == \"examples\"->xorq[examples]) (2.38.0)\n",
            "Requirement already satisfied: google-auth-oauthlib in /usr/local/lib/python3.11/dist-packages (from gcsfs->pins[gcs]<1,>=0.8.3; python_full_version >= \"3.10\" and python_full_version < \"4.0\" and extra == \"examples\"->xorq[examples]) (1.2.1)\n",
            "Requirement already satisfied: google-cloud-storage in /usr/local/lib/python3.11/dist-packages (from gcsfs->pins[gcs]<1,>=0.8.3; python_full_version >= \"3.10\" and python_full_version < \"4.0\" and extra == \"examples\"->xorq[examples]) (2.19.0)\n",
            "Requirement already satisfied: charset-normalizer<4,>=2 in /usr/local/lib/python3.11/dist-packages (from requests->pins<1,>=0.8.3->pins[gcs]<1,>=0.8.3; python_full_version >= \"3.10\" and python_full_version < \"4.0\" and extra == \"examples\"->xorq[examples]) (3.4.1)\n",
            "Requirement already satisfied: urllib3<3,>=1.21.1 in /usr/local/lib/python3.11/dist-packages (from requests->pins<1,>=0.8.3->pins[gcs]<1,>=0.8.3; python_full_version >= \"3.10\" and python_full_version < \"4.0\" and extra == \"examples\"->xorq[examples]) (2.3.0)\n",
            "Requirement already satisfied: aiohappyeyeballs>=2.3.0 in /usr/local/lib/python3.11/dist-packages (from aiohttp!=4.0.0a0,!=4.0.0a1->gcsfs->pins[gcs]<1,>=0.8.3; python_full_version >= \"3.10\" and python_full_version < \"4.0\" and extra == \"examples\"->xorq[examples]) (2.5.0)\n",
            "Requirement already satisfied: aiosignal>=1.1.2 in /usr/local/lib/python3.11/dist-packages (from aiohttp!=4.0.0a0,!=4.0.0a1->gcsfs->pins[gcs]<1,>=0.8.3; python_full_version >= \"3.10\" and python_full_version < \"4.0\" and extra == \"examples\"->xorq[examples]) (1.3.2)\n",
            "Requirement already satisfied: frozenlist>=1.1.1 in /usr/local/lib/python3.11/dist-packages (from aiohttp!=4.0.0a0,!=4.0.0a1->gcsfs->pins[gcs]<1,>=0.8.3; python_full_version >= \"3.10\" and python_full_version < \"4.0\" and extra == \"examples\"->xorq[examples]) (1.5.0)\n",
            "Requirement already satisfied: multidict<7.0,>=4.5 in /usr/local/lib/python3.11/dist-packages (from aiohttp!=4.0.0a0,!=4.0.0a1->gcsfs->pins[gcs]<1,>=0.8.3; python_full_version >= \"3.10\" and python_full_version < \"4.0\" and extra == \"examples\"->xorq[examples]) (6.1.0)\n",
            "Requirement already satisfied: propcache>=0.2.0 in /usr/local/lib/python3.11/dist-packages (from aiohttp!=4.0.0a0,!=4.0.0a1->gcsfs->pins[gcs]<1,>=0.8.3; python_full_version >= \"3.10\" and python_full_version < \"4.0\" and extra == \"examples\"->xorq[examples]) (0.3.0)\n",
            "Requirement already satisfied: yarl<2.0,>=1.17.0 in /usr/local/lib/python3.11/dist-packages (from aiohttp!=4.0.0a0,!=4.0.0a1->gcsfs->pins[gcs]<1,>=0.8.3; python_full_version >= \"3.10\" and python_full_version < \"4.0\" and extra == \"examples\"->xorq[examples]) (1.18.3)\n",
            "Requirement already satisfied: cachetools<6.0,>=2.0.0 in /usr/local/lib/python3.11/dist-packages (from google-auth>=1.2->gcsfs->pins[gcs]<1,>=0.8.3; python_full_version >= \"3.10\" and python_full_version < \"4.0\" and extra == \"examples\"->xorq[examples]) (5.5.2)\n",
            "Requirement already satisfied: pyasn1-modules>=0.2.1 in /usr/local/lib/python3.11/dist-packages (from google-auth>=1.2->gcsfs->pins[gcs]<1,>=0.8.3; python_full_version >= \"3.10\" and python_full_version < \"4.0\" and extra == \"examples\"->xorq[examples]) (0.4.1)\n",
            "Requirement already satisfied: rsa<5,>=3.1.4 in /usr/local/lib/python3.11/dist-packages (from google-auth>=1.2->gcsfs->pins[gcs]<1,>=0.8.3; python_full_version >= \"3.10\" and python_full_version < \"4.0\" and extra == \"examples\"->xorq[examples]) (4.9)\n",
            "Requirement already satisfied: requests-oauthlib>=0.7.0 in /usr/local/lib/python3.11/dist-packages (from google-auth-oauthlib->gcsfs->pins[gcs]<1,>=0.8.3; python_full_version >= \"3.10\" and python_full_version < \"4.0\" and extra == \"examples\"->xorq[examples]) (2.0.0)\n",
            "Requirement already satisfied: google-api-core<3.0.0dev,>=2.15.0 in /usr/local/lib/python3.11/dist-packages (from google-cloud-storage->gcsfs->pins[gcs]<1,>=0.8.3; python_full_version >= \"3.10\" and python_full_version < \"4.0\" and extra == \"examples\"->xorq[examples]) (2.24.2)\n",
            "Requirement already satisfied: google-cloud-core<3.0dev,>=2.3.0 in /usr/local/lib/python3.11/dist-packages (from google-cloud-storage->gcsfs->pins[gcs]<1,>=0.8.3; python_full_version >= \"3.10\" and python_full_version < \"4.0\" and extra == \"examples\"->xorq[examples]) (2.4.3)\n",
            "Requirement already satisfied: google-resumable-media>=2.7.2 in /usr/local/lib/python3.11/dist-packages (from google-cloud-storage->gcsfs->pins[gcs]<1,>=0.8.3; python_full_version >= \"3.10\" and python_full_version < \"4.0\" and extra == \"examples\"->xorq[examples]) (2.7.2)\n",
            "Requirement already satisfied: google-crc32c<2.0dev,>=1.0 in /usr/local/lib/python3.11/dist-packages (from google-cloud-storage->gcsfs->pins[gcs]<1,>=0.8.3; python_full_version >= \"3.10\" and python_full_version < \"4.0\" and extra == \"examples\"->xorq[examples]) (1.6.0)\n",
            "Requirement already satisfied: googleapis-common-protos<2.0.0,>=1.56.2 in /usr/local/lib/python3.11/dist-packages (from google-api-core<3.0.0dev,>=2.15.0->google-cloud-storage->gcsfs->pins[gcs]<1,>=0.8.3; python_full_version >= \"3.10\" and python_full_version < \"4.0\" and extra == \"examples\"->xorq[examples]) (1.69.1)\n",
            "Requirement already satisfied: protobuf!=3.20.0,!=3.20.1,!=4.21.0,!=4.21.1,!=4.21.2,!=4.21.3,!=4.21.4,!=4.21.5,<7.0.0,>=3.19.5 in /usr/local/lib/python3.11/dist-packages (from google-api-core<3.0.0dev,>=2.15.0->google-cloud-storage->gcsfs->pins[gcs]<1,>=0.8.3; python_full_version >= \"3.10\" and python_full_version < \"4.0\" and extra == \"examples\"->xorq[examples]) (4.25.6)\n",
            "Requirement already satisfied: proto-plus<2.0.0,>=1.22.3 in /usr/local/lib/python3.11/dist-packages (from google-api-core<3.0.0dev,>=2.15.0->google-cloud-storage->gcsfs->pins[gcs]<1,>=0.8.3; python_full_version >= \"3.10\" and python_full_version < \"4.0\" and extra == \"examples\"->xorq[examples]) (1.26.1)\n",
            "Requirement already satisfied: pyasn1<0.7.0,>=0.4.6 in /usr/local/lib/python3.11/dist-packages (from pyasn1-modules>=0.2.1->google-auth>=1.2->gcsfs->pins[gcs]<1,>=0.8.3; python_full_version >= \"3.10\" and python_full_version < \"4.0\" and extra == \"examples\"->xorq[examples]) (0.6.1)\n",
            "Requirement already satisfied: oauthlib>=3.0.0 in /usr/local/lib/python3.11/dist-packages (from requests-oauthlib>=0.7.0->google-auth-oauthlib->gcsfs->pins[gcs]<1,>=0.8.3; python_full_version >= \"3.10\" and python_full_version < \"4.0\" and extra == \"examples\"->xorq[examples]) (3.2.2)\n",
            "Downloading dask-2025.1.0-py3-none-any.whl (1.4 MB)\n",
            "\u001b[2K   \u001b[90m━━━━━━━━━━━━━━━━━━━━━━━━━━━━━━━━━━━━━━━━\u001b[0m \u001b[32m1.4/1.4 MB\u001b[0m \u001b[31m33.1 MB/s\u001b[0m eta \u001b[36m0:00:00\u001b[0m\n",
            "\u001b[?25hDownloading sqlglot-25.20.2-py3-none-any.whl (411 kB)\n",
            "\u001b[2K   \u001b[90m━━━━━━━━━━━━━━━━━━━━━━━━━━━━━━━━━━━━━━━━\u001b[0m \u001b[32m411.2/411.2 kB\u001b[0m \u001b[31m24.6 MB/s\u001b[0m eta \u001b[36m0:00:00\u001b[0m\n",
            "\u001b[?25hDownloading adbc_driver_postgresql-1.5.0-py3-none-manylinux_2_17_x86_64.manylinux2014_x86_64.whl (2.8 MB)\n",
            "\u001b[2K   \u001b[90m━━━━━━━━━━━━━━━━━━━━━━━━━━━━━━━━━━━━━━━━\u001b[0m \u001b[32m2.8/2.8 MB\u001b[0m \u001b[31m55.8 MB/s\u001b[0m eta \u001b[36m0:00:00\u001b[0m\n",
            "\u001b[?25hDownloading atpublic-5.1-py3-none-any.whl (5.2 kB)\n",
            "Downloading cityhash-0.4.7-cp311-cp311-manylinux_2_17_x86_64.manylinux2014_x86_64.whl (525 kB)\n",
            "\u001b[2K   \u001b[90m━━━━━━━━━━━━━━━━━━━━━━━━━━━━━━━━━━━━━━━━\u001b[0m \u001b[32m525.1/525.1 kB\u001b[0m \u001b[31m24.9 MB/s\u001b[0m eta \u001b[36m0:00:00\u001b[0m\n",
            "\u001b[?25hDownloading envyaml-1.10.211231-py2.py3-none-any.whl (8.1 kB)\n",
            "Downloading geoarrow_types-0.2.0-py3-none-any.whl (14 kB)\n",
            "Downloading openai-1.66.3-py3-none-any.whl (567 kB)\n",
            "\u001b[2K   \u001b[90m━━━━━━━━━━━━━━━━━━━━━━━━━━━━━━━━━━━━━━━━\u001b[0m \u001b[32m567.4/567.4 kB\u001b[0m \u001b[31m26.0 MB/s\u001b[0m eta \u001b[36m0:00:00\u001b[0m\n",
            "\u001b[?25hDownloading pins-0.8.7-py2.py3-none-any.whl (116 kB)\n",
            "\u001b[2K   \u001b[90m━━━━━━━━━━━━━━━━━━━━━━━━━━━━━━━━━━━━━━━━\u001b[0m \u001b[32m116.3/116.3 kB\u001b[0m \u001b[31m9.4 MB/s\u001b[0m eta \u001b[36m0:00:00\u001b[0m\n",
            "\u001b[?25hDownloading psycopg2_binary-2.9.10-cp311-cp311-manylinux_2_17_x86_64.manylinux2014_x86_64.whl (3.0 MB)\n",
            "\u001b[2K   \u001b[90m━━━━━━━━━━━━━━━━━━━━━━━━━━━━━━━━━━━━━━━━\u001b[0m \u001b[32m3.0/3.0 MB\u001b[0m \u001b[31m71.1 MB/s\u001b[0m eta \u001b[36m0:00:00\u001b[0m\n",
            "\u001b[?25hDownloading pyarrow_hotfix-0.6-py3-none-any.whl (7.9 kB)\n",
            "Downloading pytest_mock-3.14.0-py3-none-any.whl (9.9 kB)\n",
            "Downloading quickgrove-0.1.4-cp311-cp311-manylinux_2_17_x86_64.manylinux2014_x86_64.whl (2.7 MB)\n",
            "\u001b[2K   \u001b[90m━━━━━━━━━━━━━━━━━━━━━━━━━━━━━━━━━━━━━━━━\u001b[0m \u001b[32m2.7/2.7 MB\u001b[0m \u001b[31m50.6 MB/s\u001b[0m eta \u001b[36m0:00:00\u001b[0m\n",
            "\u001b[?25hDownloading structlog-25.2.0-py3-none-any.whl (68 kB)\n",
            "\u001b[2K   \u001b[90m━━━━━━━━━━━━━━━━━━━━━━━━━━━━━━━━━━━━━━━━\u001b[0m \u001b[32m68.4/68.4 kB\u001b[0m \u001b[31m5.2 MB/s\u001b[0m eta \u001b[36m0:00:00\u001b[0m\n",
            "\u001b[?25hDownloading xorq-0.1.16-cp38-abi3-manylinux_2_17_x86_64.manylinux2014_x86_64.whl (35.2 MB)\n",
            "\u001b[2K   \u001b[90m━━━━━━━━━━━━━━━━━━━━━━━━━━━━━━━━━━━━━━━━\u001b[0m \u001b[32m35.2/35.2 MB\u001b[0m \u001b[31m29.1 MB/s\u001b[0m eta \u001b[36m0:00:00\u001b[0m\n",
            "\u001b[?25hDownloading appdirs-1.4.4-py2.py3-none-any.whl (9.6 kB)\n",
            "Downloading xxhash-3.5.0-cp311-cp311-manylinux_2_17_x86_64.manylinux2014_x86_64.whl (194 kB)\n",
            "\u001b[2K   \u001b[90m━━━━━━━━━━━━━━━━━━━━━━━━━━━━━━━━━━━━━━━━\u001b[0m \u001b[32m194.8/194.8 kB\u001b[0m \u001b[31m14.6 MB/s\u001b[0m eta \u001b[36m0:00:00\u001b[0m\n",
            "\u001b[?25hDownloading adbc_driver_manager-1.5.0-cp311-cp311-manylinux_2_17_x86_64.manylinux2014_x86_64.whl (2.2 MB)\n",
            "\u001b[2K   \u001b[90m━━━━━━━━━━━━━━━━━━━━━━━━━━━━━━━━━━━━━━━━\u001b[0m \u001b[32m2.2/2.2 MB\u001b[0m \u001b[31m54.3 MB/s\u001b[0m eta \u001b[36m0:00:00\u001b[0m\n",
            "\u001b[?25hInstalling collected packages: appdirs, xxhash, structlog, sqlglot, quickgrove, pyarrow-hotfix, psycopg2-binary, geoarrow-types, envyaml, cityhash, atpublic, adbc-driver-manager, pytest-mock, dask, adbc-driver-postgresql, xorq, pins, openai\n",
            "  Attempting uninstall: sqlglot\n",
            "    Found existing installation: sqlglot 25.6.1\n",
            "    Uninstalling sqlglot-25.6.1:\n",
            "      Successfully uninstalled sqlglot-25.6.1\n",
            "  Attempting uninstall: atpublic\n",
            "    Found existing installation: atpublic 4.1.0\n",
            "    Uninstalling atpublic-4.1.0:\n",
            "      Successfully uninstalled atpublic-4.1.0\n",
            "  Attempting uninstall: dask\n",
            "    Found existing installation: dask 2024.12.1\n",
            "    Uninstalling dask-2024.12.1:\n",
            "      Successfully uninstalled dask-2024.12.1\n",
            "  Attempting uninstall: openai\n",
            "    Found existing installation: openai 1.61.1\n",
            "    Uninstalling openai-1.61.1:\n",
            "      Successfully uninstalled openai-1.61.1\n",
            "\u001b[31mERROR: pip's dependency resolver does not currently take into account all the packages that are installed. This behaviour is the source of the following dependency conflicts.\n",
            "distributed 2024.12.1 requires dask==2024.12.1, but you have dask 2025.1.0 which is incompatible.\n",
            "dask-expr 1.1.21 requires dask==2024.12.1, but you have dask 2025.1.0 which is incompatible.\n",
            "ibis-framework 9.2.0 requires atpublic<5,>=2.3, but you have atpublic 5.1 which is incompatible.\n",
            "ibis-framework 9.2.0 requires sqlglot<25.7,>=23.4, but you have sqlglot 25.20.2 which is incompatible.\n",
            "rapids-dask-dependency 25.2.0 requires dask==2024.12.1, but you have dask 2025.1.0 which is incompatible.\u001b[0m\u001b[31m\n",
            "\u001b[0mSuccessfully installed adbc-driver-manager-1.5.0 adbc-driver-postgresql-1.5.0 appdirs-1.4.4 atpublic-5.1 cityhash-0.4.7 dask-2025.1.0 envyaml-1.10.211231 geoarrow-types-0.2.0 openai-1.66.3 pins-0.8.7 psycopg2-binary-2.9.10 pyarrow-hotfix-0.6 pytest-mock-3.14.0 quickgrove-0.1.4 sqlglot-25.20.2 structlog-25.2.0 xorq-0.1.16 xxhash-3.5.0\n"
          ]
        }
      ],
      "source": [
        "!pip install 'xorq[examples]'"
      ]
    },
    {
      "cell_type": "markdown",
      "source": [
        "Now lets import the corresponding libraries and set up our environment to fetch the latest stories from Hacker News"
      ],
      "metadata": {
        "id": "mFKzetarHhzB"
      }
    },
    {
      "cell_type": "code",
      "source": [
        "import pandas as pd\n",
        "import toolz\n",
        "import xgboost as xgb\n",
        "from sklearn.feature_extraction.text import TfidfVectorizer\n",
        "from sklearn.metrics import mean_absolute_error\n",
        "\n",
        "import xorq as xo\n",
        "import xorq.vendor.ibis.expr.datatypes as dt\n",
        "from xorq.caching import ParquetStorage\n",
        "from xorq.common.utils.defer_utils import deferred_read_parquet\n",
        "from xorq.common.utils.import_utils import import_python\n",
        "from xorq.expr.ml import (\n",
        "    deferred_fit_predict,\n",
        "    deferred_fit_transform_series_sklearn,\n",
        "    train_test_splits,\n",
        ")\n",
        "\n",
        "# Import helper module with UDFs\n",
        "m = import_python(xo.options.pins.get_path(\"hackernews_lib\"))\n",
        "\n",
        "# Set up connection and storage for caching\n",
        "con = xo.connect()\n",
        "storage = ParquetStorage(source=con)\n",
        "\n",
        "# Load data and split into train/test sets\n",
        "train_expr, test_expr = (\n",
        "    deferred_read_parquet(\n",
        "        con,\n",
        "        xo.options.pins.get_path(\"hn-fetcher-input-small.parquet\"),\n",
        "        \"fetcher-input\",\n",
        "    )\n",
        "    .pipe(m.do_hackernews_fetcher_udxf, inner_name=\"inner-named-flight-udxf\")\n",
        "    .pipe(\n",
        "        train_test_splits,\n",
        "        unique_key=\"id\",\n",
        "        test_sizes=(0.9, 0.1),\n",
        "        random_seed=0,\n",
        "    )\n",
        ")"
      ],
      "metadata": {
        "id": "hWW8UVmNHqUP"
      },
      "execution_count": 2,
      "outputs": []
    },
    {
      "cell_type": "markdown",
      "source": [
        "Using `deferred_read_parquet` allows us to load the data without immediate execution, keeping everything as expressions that can be optimized.\n",
        "\n",
        "## Text Vectorization and Model Training\n",
        "\n",
        "To process the story titles, we use TF-IDF vectorization with a deferred approach:\n"
      ],
      "metadata": {
        "id": "vv1WZHQaaARG"
      }
    },
    {
      "cell_type": "code",
      "source": [
        "transform_col = \"title\"\n",
        "features = (transformed_col,) = (f\"{transform_col}_transformed\",)\n",
        "target = \"descendants\"\n",
        "target_predicted = f\"{target}_predicted\"\n",
        "\n",
        "# Create deferred transformer for TF-IDF\n",
        "deferred_fit_transform_tfidf = deferred_fit_transform_series_sklearn(\n",
        "    col=transform_col,\n",
        "    cls=TfidfVectorizer,\n",
        "    return_type=dt.Array(dt.float64),\n",
        ")"
      ],
      "metadata": {
        "id": "nwFqgby1aLcK"
      },
      "execution_count": 4,
      "outputs": []
    },
    {
      "cell_type": "markdown",
      "source": [
        "For our XGBoost model, we define custom functions for training and prediction:"
      ],
      "metadata": {
        "id": "GQIvVeQaaVeK"
      }
    },
    {
      "cell_type": "code",
      "source": [
        "@toolz.curry\n",
        "def fit_xgboost_model(feature_df, target_series, seed=0):\n",
        "    xgb_r = xgb.XGBRegressor(\n",
        "        objective=\"reg:squarederror\",\n",
        "        eval_metric=mean_absolute_error,\n",
        "        n_estimators=20,\n",
        "        seed=seed,\n",
        "    )\n",
        "    X = pd.DataFrame(feature_df.squeeze().tolist())\n",
        "    xgb_r.fit(X, target_series)\n",
        "    return xgb_r\n",
        "\n",
        "@toolz.curry\n",
        "def predict_xgboost_model(model, df):\n",
        "    return model.predict(df.squeeze().tolist())\n",
        "\n",
        "# Create deferred predictor using our functions\n",
        "deferred_fit_predict_xgb = deferred_fit_predict(\n",
        "    target=target,\n",
        "    features=list(features),\n",
        "    fit=fit_xgboost_model,\n",
        "    predict=predict_xgboost_model,\n",
        "    return_type=dt.float32,\n",
        ")\n"
      ],
      "metadata": {
        "id": "u2J_AtA1aZRg"
      },
      "execution_count": 5,
      "outputs": []
    },
    {
      "cell_type": "markdown",
      "source": [
        "## Building the Pipeline Expression\n",
        "\n",
        "Finally, we compose everything together into a single expressions, that works as a pipeline:"
      ],
      "metadata": {
        "id": "rhXFxue8af1Q"
      }
    },
    {
      "cell_type": "code",
      "source": [
        "# Fit and transform with TF-IDF\n",
        "(deferred_tfidf_model, tfidf_udaf, deferred_tfidf_transform) = (\n",
        "    deferred_fit_transform_tfidf(\n",
        "        train_expr,\n",
        "        storage=storage,\n",
        "    )\n",
        ")\n",
        "\n",
        "# Apply the transformation to training data\n",
        "train_tfidf_transformed = train_expr.mutate(\n",
        "    **{transformed_col: deferred_tfidf_transform.on_expr}\n",
        ")\n",
        "\n",
        "# Fit XGBoost and get prediction function\n",
        "(deferred_xgb_model, xgb_udaf, deferred_xgb_predict) = deferred_fit_predict_xgb(\n",
        "    train_tfidf_transformed,\n",
        "    storage=storage,\n",
        ")\n",
        "\n",
        "# Apply transformation and prediction to test data\n",
        "test_xgb_predicted = (\n",
        "    test_expr.mutate(**{transformed_col: deferred_tfidf_transform.on_expr})\n",
        "    .into_backend(xo.connect())\n",
        "    .mutate(**{target_predicted: deferred_xgb_predict.on_expr})\n",
        ")"
      ],
      "metadata": {
        "id": "P_4rCz23aio-"
      },
      "execution_count": 7,
      "outputs": []
    },
    {
      "cell_type": "markdown",
      "source": [
        "## Executing and Evaluating the Pipeline\n",
        "\n",
        "To run the pipeline and get predictions:\n"
      ],
      "metadata": {
        "id": "gAhMchDeaqXf"
      }
    },
    {
      "cell_type": "code",
      "source": [
        "test_xgb_predicted.execute()"
      ],
      "metadata": {
        "id": "sQbXVE6WarNM"
      },
      "execution_count": null,
      "outputs": []
    },
    {
      "cell_type": "code",
      "source": [],
      "metadata": {
        "id": "R-XfLblzaBvG"
      },
      "execution_count": null,
      "outputs": []
    }
  ]
}